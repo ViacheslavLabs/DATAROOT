{
 "cells": [
  {
   "cell_type": "markdown",
   "metadata": {},
   "source": [
    "# DataRoot University DS100 Test #2 Second Try\n",
    "На проходження тесту виділяється 71 хвилина."
   ]
  },
  {
   "cell_type": "markdown",
   "metadata": {},
   "source": [
    "## Python"
   ]
  },
  {
   "cell_type": "markdown",
   "metadata": {},
   "source": [
    "### 1.  Вирішити задачу:\n",
    "Вірус напав на файлову систему суперкомп'ютера та порушив контроль доступу до файлів. Для кожного файлу є відомий набір операцій, які можуть бути застосовані до нього:\n",
    "```\n",
    "write W\n",
    "read R\n",
    "execute X\n",
    "```\n",
    "У першому рядку міститься число N - кількість файлів, що містяться в файловій системі. Наступні N рядків містять імена файлів і дозволені операції з ними, розділені пробілами. Наступний рядок містить ціле число M - кількість операцій з файлами. У останніх M рядках вказуються операції, які вимагаються вірусом для файлів.\n",
    "\n",
    "Вам потрібно відновити контроль над правами доступу до файлів. Для кожного запиту ваша програма повинна повертати OK, якщо задана операція дійсна, або Access denied, якщо операція недійсна.\n",
    "\n",
    "Вміст файлу(можна працювати, як зі строкою):\n",
    "```\n",
    "4\n",
    "helloworld.exe R X\n",
    "pinglog W R\n",
    "nya R\n",
    "goodluck X W R\n",
    "5\n",
    "read nya\n",
    "write helloworld.exe\n",
    "execute nya\n",
    "read pinglog\n",
    "write pinglog\n",
    "```\n",
    "```\n",
    "```\n",
    "```\n",
    "```\n",
    "```\n",
    "Максимальна оцінка: 4 бали\n",
    "Рекомендований час: 10хв\n",
    "```"
   ]
  },
  {
   "cell_type": "code",
   "execution_count": null,
   "metadata": {},
   "outputs": [],
   "source": []
  },
  {
   "cell_type": "markdown",
   "metadata": {},
   "source": [
    "### 2. Маючи позитивне дійсне число a і невід'ємне ціле число n. Реалізувати функцію ```a^n``` без використання циклів, ** оператора або вбудованої функції math.pow (). Замість цього використовуйте рекурсію.\n",
    "\n",
    "```\n",
    "```\n",
    "```\n",
    "```\n",
    "```\n",
    "```\n",
    "```\n",
    "Максимальна оцінка: 2 бали\n",
    "Рекомендований час: 5хв\n",
    "```"
   ]
  },
  {
   "cell_type": "code",
   "execution_count": 1,
   "metadata": {},
   "outputs": [
    {
     "name": "stdout",
     "output_type": "stream",
     "text": [
      "27\n"
     ]
    }
   ],
   "source": [
    "def stepen(a,n):\n",
    "    if n==0:\n",
    "        return 1\n",
    "    else:\n",
    "        return a*stepen(a, n-1)\n",
    "print(stepen(3,3))"
   ]
  },
  {
   "cell_type": "markdown",
   "metadata": {},
   "source": [
    "### 3. У шахах відомо, що на шаховій дошці 8 × 8 можна розмістити 8 ферзей таким чином, щоб ніхто з них не атакував одне одного. Враховуючи розміщення 8 ферзей на дошці, визначте, чи є пара ферзей, які можуть атакувати одне одного на наступному кроці. Надрукуйте слово NO, якщо жоден ферзь не може атакувати іншого, в іншому випадку надрукуйте YES. Вхід складається з восьми пар координат, по одній парі на рядок,  кожна пара відповідає положенню ферзя на стандартній шаховій дошці з рядками та стовпцями, нумерація яких починається з 1.\n",
    "\n",
    "```\n",
    "```\n",
    "```\n",
    "```\n",
    "```\n",
    "```\n",
    "```\n",
    "Максимальна оцінка: 5 балів\n",
    "Рекомендований час: 15хв\n",
    "```"
   ]
  },
  {
   "cell_type": "code",
   "execution_count": 18,
   "metadata": {},
   "outputs": [
    {
     "name": "stdout",
     "output_type": "stream",
     "text": [
      "Yes\n"
     ]
    }
   ],
   "source": [
    "A = np.mat([[0, 0, 0, 0, 0, 0, 0, 1],\n",
    "            [0, 0, 1, 0, 0, 0, 0, 0],\n",
    "            [1, 0, 0, 0, 0, 0, 0, 0],\n",
    "            [0, 0, 1, 0, 0, 0, 0, 0],\n",
    "            [0, 0, 0, 0, 0, 1, 0, 0],\n",
    "            [0, 1, 0, 0, 0, 0, 0, 0],\n",
    "            [0, 0, 0, 0, 0, 0, 1, 0],\n",
    "            [0, 0, 0, 0, 1, 0, 0, 0]])\n",
    "\n",
    "s = \"No\"\n",
    "\n",
    "for i in range(8):\n",
    "    for j in range(8):\n",
    "        if (A[i, j] == 1):\n",
    "            for m in range(8):\n",
    "                if A[i, m] == 1:\n",
    "                    s = 'Yes'\n",
    "                if A[m, j] == 1:\n",
    "                    s = 'Yes'\n",
    "            for m in range(-8, 8):\n",
    "                if (m != 0) and (i + m - 1 > 0) and (j + m - 1 > 0) and (i + m < 8) and (j + m < 8):\n",
    "                    if A[i + m, j + m] == 1:\n",
    "                        s = 'Yes'\n",
    "\n",
    "print(s)"
   ]
  },
  {
   "cell_type": "markdown",
   "metadata": {},
   "source": [
    "### 4. Реалізуйте клас Torus, який створюється за двома радіусами r, R, R > r. Містить два методи, які повертають відповідно: площу поверхні та об'єм.\n",
    "\n",
    "```\n",
    "```\n",
    "```\n",
    "```\n",
    "```\n",
    "```\n",
    "```\n",
    "Максимальна оцінка: 2 бали\n",
    "Рекомендований час: 5хв\n",
    "```"
   ]
  },
  {
   "cell_type": "code",
   "execution_count": 2,
   "metadata": {
    "collapsed": true
   },
   "outputs": [],
   "source": [
    "class Torus:\n",
    "\n",
    "    def __init__(self, ret, Ret):\n",
    "        self.r = ret\n",
    "        self.R = Ret\n",
    "    def S(self):\n",
    "        return 4*pi*pi*self.R*self.r\n",
    "    def V(self):\n",
    "        print(2)\n",
    "        return 2 * pi * pi * self.R * self.r * self.r"
   ]
  },
  {
   "cell_type": "markdown",
   "metadata": {},
   "source": [
    "### 5.  Продемонструйте реалізацію декоратора з параметром.\n",
    "\n",
    "```\n",
    "```\n",
    "```\n",
    "```\n",
    "```\n",
    "```\n",
    "```\n",
    "Максимальна оцінка: 2 бали\n",
    "Рекомендований час: 5хв\n",
    "```"
   ]
  },
  {
   "cell_type": "code",
   "execution_count": 17,
   "metadata": {},
   "outputs": [
    {
     "name": "stdout",
     "output_type": "stream",
     "text": [
      "1 1\n",
      "2 2\n",
      "3 6\n",
      "4 24\n",
      "5 120\n",
      "6 720\n",
      "7 5040\n",
      "8 40320\n",
      "9 362880\n"
     ]
    },
    {
     "ename": "Exception",
     "evalue": "Argument is not an integer",
     "output_type": "error",
     "traceback": [
      "\u001b[1;31m---------------------------------------------------------------------------\u001b[0m",
      "\u001b[1;31mException\u001b[0m                                 Traceback (most recent call last)",
      "\u001b[1;32m<ipython-input-17-b17995190544>\u001b[0m in \u001b[0;36m<module>\u001b[1;34m()\u001b[0m\n\u001b[0;32m     17\u001b[0m         \u001b[0mprint\u001b[0m\u001b[1;33m(\u001b[0m\u001b[0mi\u001b[0m\u001b[1;33m,\u001b[0m \u001b[0mfactorial\u001b[0m\u001b[1;33m(\u001b[0m\u001b[0mi\u001b[0m\u001b[1;33m)\u001b[0m\u001b[1;33m)\u001b[0m\u001b[1;33m\u001b[0m\u001b[0m\n\u001b[0;32m     18\u001b[0m \u001b[1;33m\u001b[0m\u001b[0m\n\u001b[1;32m---> 19\u001b[1;33m \u001b[0mprint\u001b[0m\u001b[1;33m(\u001b[0m\u001b[0mfactorial\u001b[0m\u001b[1;33m(\u001b[0m\u001b[1;33m-\u001b[0m\u001b[1;36m1\u001b[0m\u001b[1;33m)\u001b[0m\u001b[1;33m)\u001b[0m\u001b[1;33m\u001b[0m\u001b[0m\n\u001b[0m",
      "\u001b[1;32m<ipython-input-17-b17995190544>\u001b[0m in \u001b[0;36mhelper\u001b[1;34m(x)\u001b[0m\n\u001b[0;32m      4\u001b[0m             \u001b[1;32mreturn\u001b[0m \u001b[0mf\u001b[0m\u001b[1;33m(\u001b[0m\u001b[0mx\u001b[0m\u001b[1;33m)\u001b[0m\u001b[1;33m\u001b[0m\u001b[0m\n\u001b[0;32m      5\u001b[0m         \u001b[1;32melse\u001b[0m\u001b[1;33m:\u001b[0m\u001b[1;33m\u001b[0m\u001b[0m\n\u001b[1;32m----> 6\u001b[1;33m             \u001b[1;32mraise\u001b[0m \u001b[0mException\u001b[0m\u001b[1;33m(\u001b[0m\u001b[1;34m\"Argument is not an integer\"\u001b[0m\u001b[1;33m)\u001b[0m\u001b[1;33m\u001b[0m\u001b[0m\n\u001b[0m\u001b[0;32m      7\u001b[0m     \u001b[1;32mreturn\u001b[0m \u001b[0mhelper\u001b[0m\u001b[1;33m\u001b[0m\u001b[0m\n\u001b[0;32m      8\u001b[0m \u001b[1;33m\u001b[0m\u001b[0m\n",
      "\u001b[1;31mException\u001b[0m: Argument is not an integer"
     ]
    }
   ],
   "source": [
    "def argument_test_natural_number(f):\n",
    "    def helper(x):\n",
    "        if type(x) == int and x > 0:\n",
    "            return f(x)\n",
    "        else:\n",
    "            raise Exception(\"Argument is not an integer\")\n",
    "    return helper\n",
    "    \n",
    "@argument_test_natural_number\n",
    "def factorial(n):\n",
    "    if n == 1:\n",
    "        return 1\n",
    "    else:\n",
    "        return n * factorial(n-1)\n",
    "\n",
    "for i in range(1,10):\n",
    "\tprint(i, factorial(i))\n",
    "\n",
    "print(factorial(-1))"
   ]
  },
  {
   "cell_type": "markdown",
   "metadata": {
    "collapsed": true
   },
   "source": [
    "## Libraries: numpy, scipy, pandas, matplotlib"
   ]
  },
  {
   "cell_type": "markdown",
   "metadata": {},
   "source": [
    "### Numpy"
   ]
  },
  {
   "cell_type": "markdown",
   "metadata": {
    "collapsed": true
   },
   "source": [
    "### 6. Cкажімо, є два випадкові масиви A та B. Перевірте, чи вони однакові.\n",
    "```\n",
    "```\n",
    "```\n",
    "```\n",
    "```\n",
    "```\n",
    "```\n",
    "Максимальна оцінка: 2 бали\n",
    "Рекомендований час: 3хв\n",
    "```"
   ]
  },
  {
   "cell_type": "code",
   "execution_count": 13,
   "metadata": {},
   "outputs": [
    {
     "name": "stdout",
     "output_type": "stream",
     "text": [
      "True\n"
     ]
    }
   ],
   "source": [
    "\n",
    "B = np.mat([[1, 24, 1, 8, 15],\n",
    "             [-3, 5, 7, -14, 16],\n",
    "             [4, 6, -3, 20, 2],\n",
    "             [10, 12, 19, 21, 3],\n",
    "             [1, 1, 2, -2, 0]])\n",
    "A = np.mat([[1, 24, 1, 8, 15],\n",
    "             [-3, 5, 7, -14, 16],\n",
    "             [4, 6, -3, 20, 2],\n",
    "             [10, 12, 19, 21, 3],\n",
    "             [1, 1, 2, -2, 0]])\n",
    "\n",
    "print(np.array_equal(A, B))"
   ]
  },
  {
   "cell_type": "markdown",
   "metadata": {},
   "source": [
    "### 7. Поверніть з 2-вимірного масиву лінійно незалежні рядки.\n",
    "```\n",
    "```\n",
    "```\n",
    "```\n",
    "```\n",
    "```\n",
    "```\n",
    "Максимальна оцінка: 3 бали\n",
    "Рекомендований час: 6хв\n",
    "```"
   ]
  },
  {
   "cell_type": "code",
   "execution_count": null,
   "metadata": {
    "collapsed": true
   },
   "outputs": [],
   "source": []
  },
  {
   "cell_type": "markdown",
   "metadata": {},
   "source": [
    "### 8. Знайдіть найближче значення до заданого значення в масиві.\n",
    "```\n",
    "```\n",
    "```\n",
    "```\n",
    "```\n",
    "```\n",
    "```\n",
    "Максимальна оцінка: 2 бали\n",
    "Рекомендований час: 3хв\n",
    "```"
   ]
  },
  {
   "cell_type": "code",
   "execution_count": 16,
   "metadata": {},
   "outputs": [
    {
     "name": "stdout",
     "output_type": "stream",
     "text": [
      "[[  1  24   1   8  15]\n",
      " [ -3   5   7 -14  16]\n",
      " [  4   6  -3  20   2]\n",
      " [ 10  12  19  21   3]\n",
      " [  1   1   2  -2   0]]\n",
      "2\n",
      "2\n"
     ]
    }
   ],
   "source": [
    "import random\n",
    "from math import fabs\n",
    "B = np.mat([[1, 24, 1, 8, 15],\n",
    "             [-3, 5, 7, -14, 16], \n",
    "             [4, 6, -3, 20, 2],\n",
    "             [10, 12, 19, 21, 3],\n",
    "             [1, 1, 2, -2, 0]])\n",
    "print(B)\n",
    "num = random.randint(0,30)\n",
    "\n",
    "dif = fabs(B[0,0] - num)\n",
    "min_dif = dif\n",
    "for i in range(B.shape[0]):\n",
    "    for j in range(B.shape[0]):\n",
    "        dif = fabs(B[i,j] - num)\n",
    "        if dif < min_dif:\n",
    "            min_dif = dif\n",
    "            res = B[i,j]\n",
    "\n",
    "print(num)\n",
    "print(res)"
   ]
  },
  {
   "cell_type": "markdown",
   "metadata": {},
   "source": [
    "### Pandas"
   ]
  },
  {
   "cell_type": "markdown",
   "metadata": {},
   "source": [
    "### 9. Скажімо, є DataFrame df з 10 стовпчиком дійсних чисел. Наприклад:"
   ]
  },
  {
   "cell_type": "code",
   "execution_count": 6,
   "metadata": {},
   "outputs": [],
   "source": [
    "import numpy as np\n",
    "import pandas as pd\n",
    "\n",
    "df = pd.DataFrame(np.random.random(size=(5, 10)), columns=list('abcdefghij'))"
   ]
  },
  {
   "cell_type": "markdown",
   "metadata": {},
   "source": [
    "Яка колонка чисел має найменшу суму?\n",
    "```\n",
    "```\n",
    "```\n",
    "```\n",
    "```\n",
    "```\n",
    "```\n",
    "Максимальна оцінка: 2 бали\n",
    "Рекомендований час: 3хв\n",
    "```"
   ]
  },
  {
   "cell_type": "code",
   "execution_count": null,
   "metadata": {
    "collapsed": true
   },
   "outputs": [],
   "source": []
  },
  {
   "cell_type": "markdown",
   "metadata": {},
   "source": [
    "### 10. Скажімо, є DataFrame з двома стовпчиками цілих чисел 'A' та 'B'. Значення в 'A' знаходяться між 1 та 100 включно. Для кожної групи з десяти послідовних чисел в 'A' (тобто (0, 10], (10, 20], ...), розрахуйте суму відповідних значень в 'B'.\n",
    "```\n",
    "```\n",
    "```\n",
    "```\n",
    "```\n",
    "```\n",
    "```\n",
    "Максимальна оцінка: 3 бали\n",
    "Рекомендований час: 5хв\n",
    "```"
   ]
  },
  {
   "cell_type": "code",
   "execution_count": null,
   "metadata": {
    "collapsed": true
   },
   "outputs": [],
   "source": []
  },
  {
   "cell_type": "markdown",
   "metadata": {},
   "source": [
    "### 11. Є DataFrame df зі стовпцями: групи - \"grps\" та значення - \"vals\":"
   ]
  },
  {
   "cell_type": "code",
   "execution_count": 7,
   "metadata": {},
   "outputs": [],
   "source": [
    "df = pd.DataFrame({'grps': list('aaabbcaabcccbbc'), \n",
    "                   'vals': [12,345,3,1,45,14,4,52,54,23,235,21,57,3,87]})"
   ]
  },
  {
   "cell_type": "markdown",
   "metadata": {
    "collapsed": true
   },
   "source": [
    "Для кожної групи знайдіть суму трьох найбільших значень.\n",
    "```\n",
    "```\n",
    "```\n",
    "```\n",
    "```\n",
    "```\n",
    "```\n",
    "Максимальна оцінка: 2 бали\n",
    "Рекомендований час: 3хв\n",
    "```"
   ]
  },
  {
   "cell_type": "code",
   "execution_count": 8,
   "metadata": {},
   "outputs": [
    {
     "name": "stdout",
     "output_type": "stream",
     "text": [
      "      vals\n",
      "grps      \n",
      "a      409\n",
      "      vals\n",
      "grps      \n",
      "b      156\n",
      "      vals\n",
      "grps      \n",
      "c      345\n"
     ]
    }
   ],
   "source": [
    "for c in 'abc':\n",
    "    print(df[df.grps == c].sort_values(['vals'], ascending=[False])[:3].groupby('grps').sum())\n"
   ]
  },
  {
   "cell_type": "markdown",
   "metadata": {},
   "source": [
    "## Scipy & Matplotlib"
   ]
  },
  {
   "cell_type": "markdown",
   "metadata": {},
   "source": [
    "### 12. За допомогою scipy згенерувати та за допомогою matplotlib побудувати вибірки, правильно підписавши осі та назвавши графік з обраними відповідними параметрами(завдання на повторення):"
   ]
  },
  {
   "cell_type": "markdown",
   "metadata": {},
   "source": [
    "#### 12.1. Виібрку з нормально розподіленої випадкової величини:\n",
    "```\n",
    "```\n",
    "```\n",
    "```\n",
    "```\n",
    "```\n",
    "```\n",
    "Максимальна оцінка: 2 бали\n",
    "Рекомендований час: 2хв\n",
    "```"
   ]
  },
  {
   "cell_type": "code",
   "execution_count": 9,
   "metadata": {},
   "outputs": [
    {
     "data": {
      "image/png": "[encoded data removed]",
      "text/plain": [
       "<matplotlib.figure.Figure at 0x1d79d7a7390>"
      ]
     },
     "metadata": {},
     "output_type": "display_data"
    }
   ],
   "source": [
    "import matplotlib.pyplot as plt\n",
    "import numpy as np\n",
    "import scipy.stats as sts\n",
    "%matplotlib inline\n",
    "\n",
    "norm_rv = sts.norm(0, 1)\n",
    "sample = norm_rv.rvs(100)\n",
    "x = np.linspace(-4,4,100)\n",
    "pdf = norm_rv.pdf(x)\n",
    "plt.plot(x, pdf, label='norm')\n",
    "plt.xlabel('X')\n",
    "plt.ylabel('Values')\n",
    "plt.title('Norm')\n",
    "plt.legend()\n",
    "plt.show()"
   ]
  },
  {
   "cell_type": "markdown",
   "metadata": {},
   "source": [
    "#### 12.2. Вибірку з розподілу Бернулі:\n",
    "```\n",
    "```\n",
    "```\n",
    "```\n",
    "```\n",
    "```\n",
    "```\n",
    "Максимальна оцінка: 2 бали\n",
    "Рекомендований час: 2хв\n",
    "```"
   ]
  },
  {
   "cell_type": "code",
   "execution_count": 10,
   "metadata": {},
   "outputs": [
    {
     "data": {
      "image/png": "[encoded data removed]",
      "text/plain": [
       "<matplotlib.figure.Figure at 0x1d7a0b83d30>"
      ]
     },
     "metadata": {},
     "output_type": "display_data"
    }
   ],
   "source": [
    "bern = sts.bernoulli(0.5)\n",
    "sample = bern.rvs(100)\n",
    "plt.hist(sample, normed=True)\n",
    "plt.xlabel('X')\n",
    "plt.ylabel('Values')\n",
    "plt.title('Bernoulli')\n",
    "plt.legend()\n",
    "plt.show()"
   ]
  },
  {
   "cell_type": "markdown",
   "metadata": {},
   "source": [
    "#### 12.3. Вибірку з біноміального розподілу:\n",
    "```\n",
    "```\n",
    "```\n",
    "```\n",
    "```\n",
    "```\n",
    "```\n",
    "Максимальна оцінка: 2 бали\n",
    "Рекомендований час: 2хв\n",
    "```"
   ]
  },
  {
   "cell_type": "code",
   "execution_count": 11,
   "metadata": {},
   "outputs": [
    {
     "data": {
      "image/png": "[encoded data removed]",
      "text/plain": [
       "<matplotlib.figure.Figure at 0x1d7a2f47048>"
      ]
     },
     "metadata": {},
     "output_type": "display_data"
    }
   ],
   "source": [
    "bin = sts.binom(15, 0.4)\n",
    "sample = bin.rvs(100)\n",
    "plt.hist(sample, normed=True)\n",
    "plt.xlabel('X')\n",
    "plt.ylabel('Values')\n",
    "plt.title('Binom')\n",
    "plt.legend()\n",
    "plt.show()"
   ]
  },
  {
   "cell_type": "markdown",
   "metadata": {
    "collapsed": true
   },
   "source": [
    "#### 12.4. Вибірку з розподілу Пуассона:\n",
    "```\n",
    "```\n",
    "```\n",
    "```\n",
    "```\n",
    "```\n",
    "```\n",
    "Максимальна оцінка: 2 бали\n",
    "Рекомендований час: 2хв\n",
    "```"
   ]
  },
  {
   "cell_type": "code",
   "execution_count": 12,
   "metadata": {},
   "outputs": [
    {
     "data": {
      "image/png": "[encoded data removed]",
      "text/plain": [
       "<matplotlib.figure.Figure at 0x1d7a2e03390>"
      ]
     },
     "metadata": {},
     "output_type": "display_data"
    }
   ],
   "source": [
    "pois = sts.poisson(7)\n",
    "sample = pois.rvs(100)\n",
    "plt.hist(sample, normed=True)\n",
    "plt.xlabel('X')\n",
    "plt.ylabel('Values')\n",
    "plt.title('Poisson')\n",
    "plt.legend()\n",
    "plt.show()"
   ]
  }
 ],
 "metadata": {
  "kernelspec": {
   "display_name": "Python 3",
   "language": "python",
   "name": "python3"
  },
  "language_info": {
   "codemirror_mode": {
    "name": "ipython",
    "version": 3
   },
   "file_extension": ".py",
   "mimetype": "text/x-python",
   "name": "python",
   "nbconvert_exporter": "python",
   "pygments_lexer": "ipython3",
   "version": "3.6.3"
  }
 },
 "nbformat": 4,
 "nbformat_minor": 2
}
